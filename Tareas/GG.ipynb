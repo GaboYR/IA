Resumen de capitulo 1:

